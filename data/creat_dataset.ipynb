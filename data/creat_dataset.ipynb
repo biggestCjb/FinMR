{
 "cells": [
  {
   "cell_type": "code",
   "execution_count": null,
   "metadata": {},
   "outputs": [],
   "source": [
    "from datasets import Dataset, Features, Value, Image, Sequence, load_dataset\n",
    "import json, os\n",
    "\n",
    "\n",
    "features = Features({\n",
    "    \"Question ID\": Value(\"int64\"),  \n",
    "    \"Share Context\": Value(\"string\"),  \n",
    "    \"Share Image\": Sequence(Value(\"string\")), \n",
    "    \"Question Text\": Value(\"string\"),  \n",
    "    \"Image\": Value(\"string\"),  \n",
    "    \"Options\": Value(\"string\"),\n",
    "    \"Answer\": Value(\"string\"),  \n",
    "    \"Explanation\": Value(\"string\"),  \n",
    "    \"QA Type\": Value(\"string\"),  \n",
    "    \"Level of Difficulty\": Value(\"string\"), \n",
    "    \"shared_description\": Value(\"string\"), \n",
    "    \"description\": Value(\"string\"),  \n",
    "    \"Datasplit\": Value(\"string\"),  \n",
    "    \"Index\": Value(\"int64\"),  \n",
    "})\n",
    "\n",
    "def trans(data):\n",
    "    formatted_data = {\n",
    "    \"Question ID\": [entry[\"Question ID\"] for entry in data],\n",
    "    \"Share Context\": [entry[\"Share Context\"] for entry in data],\n",
    "    \"Share Image\": [entry[\"Share Image\"] for entry in data],\n",
    "    \"Question Text\": [entry[\"Question Text\"] for entry in data],\n",
    "    \"Image\": [entry[\"Image\"] for entry in data],\n",
    "    \"Options\": [entry[\"Options\"] for entry in data],\n",
    "    \"Answer\": [entry[\"Answer\"] for entry in data],\n",
    "    \"Explanation\": [entry[\"Explanation\"] for entry in data],\n",
    "    \"QA Type\": [entry[\"QA Type\"] for entry in data],\n",
    "    \"Level of Difficulty\": [entry[\"Level of Difficulty\"] for entry in data],\n",
    "    \"shared_description\": [entry[\"shared_description\"] for entry in data],\n",
    "    \"description\": [entry[\"description\"] for entry in data],\n",
    "    \"Datasplit\": [entry[\"Datasplit\"] for entry in data],\n",
    "    \"Index\": [entry[\"Index\"] for entry in data],\n",
    "    }\n",
    "    return formatted_data\n",
    "\n",
    "\n",
    "def embed_images(example):\n",
    "   \n",
    "    if example[\"Image\"] is None:  \n",
    "        result = {\"Image\": None}\n",
    "    else:\n",
    "        if os.path.exists(example[\"Image\"]):  \n",
    "            with open(example[\"Image\"], \"rb\") as f:\n",
    "                result = {\"Image\": {\"path\": example[\"Image\"], \"bytes\": f.read()}}\n",
    "        else:\n",
    "            result = {\"Image\": None}  \n",
    "\n",
    "    \n",
    "    share_images = example[\"Share Image\"]\n",
    "    if share_images:  \n",
    "        encoded_share_images = []\n",
    "        for image_path in share_images:\n",
    "            if os.path.exists(image_path):  \n",
    "                with open(image_path, \"rb\") as f:\n",
    "                    encoded_share_images.append({\"path\": image_path, \"bytes\": f.read()})\n",
    "            else:\n",
    "                encoded_share_images.append(None)  \n",
    "        result[\"Share Image\"] = encoded_share_images\n",
    "    else:\n",
    "        result[\"Share Image\"] = None  \n",
    "\n",
    "    return result\n"
   ]
  },
  {
   "cell_type": "code",
   "execution_count": null,
   "metadata": {},
   "outputs": [],
   "source": [
    "\n",
    "with open('data/FinQA_data.json', 'r', encoding='utf-8') as f:\n",
    "    data = json.load(f)  "
   ]
  },
  {
   "cell_type": "code",
   "execution_count": 3,
   "metadata": {},
   "outputs": [
    {
     "data": {
      "application/vnd.jupyter.widget-view+json": {
       "model_id": "f1f3ea8eb8014d37bf0070a38e1cbb08",
       "version_major": 2,
       "version_minor": 0
      },
      "text/plain": [
       "Map:   0%|          | 0/3201 [00:00<?, ? examples/s]"
      ]
     },
     "metadata": {},
     "output_type": "display_data"
    },
    {
     "data": {
      "application/vnd.jupyter.widget-view+json": {
       "model_id": "dad3a638787846439984d77b80175a51",
       "version_major": 2,
       "version_minor": 0
      },
      "text/plain": [
       "Casting the dataset:   0%|          | 0/3201 [00:00<?, ? examples/s]"
      ]
     },
     "metadata": {},
     "output_type": "display_data"
    }
   ],
   "source": [
    "data = trans(data)\n",
    "dataset = Dataset.from_dict(data, features=features)\n",
    "dataset = dataset.map(embed_images)\n",
    "dataset = dataset.cast_column(\"Share Image\", Sequence(Image()))\n",
    "dataset = dataset.cast_column(\"Image\", Image())"
   ]
  },
  {
   "cell_type": "code",
   "execution_count": 4,
   "metadata": {},
   "outputs": [
    {
     "data": {
      "application/vnd.jupyter.widget-view+json": {
       "model_id": "abdaecf396e14985972380b58edb37b6",
       "version_major": 2,
       "version_minor": 0
      },
      "text/plain": [
       "Creating parquet from Arrow format:   0%|          | 0/33 [00:00<?, ?ba/s]"
      ]
     },
     "metadata": {},
     "output_type": "display_data"
    },
    {
     "data": {
      "text/plain": [
       "362292455"
      ]
     },
     "execution_count": 4,
     "metadata": {},
     "output_type": "execute_result"
    }
   ],
   "source": [
    "dataset.to_parquet(\"train.parquet\")"
   ]
  },
  {
   "cell_type": "code",
   "execution_count": 17,
   "metadata": {},
   "outputs": [
    {
     "data": {
      "application/vnd.jupyter.widget-view+json": {
       "model_id": "903c5aeae7ea455480ace9b160b2c04f",
       "version_major": 2,
       "version_minor": 0
      },
      "text/plain": [
       "Generating train split: 0 examples [00:00, ? examples/s]"
      ]
     },
     "metadata": {},
     "output_type": "display_data"
    }
   ],
   "source": [
    "dataset_train = load_dataset(\"parquet\", data_files='train.parquet')"
   ]
  },
  {
   "cell_type": "code",
   "execution_count": 19,
   "metadata": {},
   "outputs": [
    {
     "name": "stdout",
     "output_type": "stream",
     "text": [
      "[<PIL.PngImagePlugin.PngImageFile image mode=RGB size=620x251 at 0x1C0FE5A1D60>, <PIL.PngImagePlugin.PngImageFile image mode=RGBA size=386x543 at 0x1C0FE802150>, <PIL.PngImagePlugin.PngImageFile image mode=RGBA size=602x370 at 0x1C0FE801280>, <PIL.PngImagePlugin.PngImageFile image mode=RGBA size=484x242 at 0x1C0FE8026C0>]\n"
     ]
    }
   ],
   "source": [
    "print(dataset_train['train']['Share Image'][0])"
   ]
  }
 ],
 "metadata": {
  "kernelspec": {
   "display_name": "base",
   "language": "python",
   "name": "python3"
  },
  "language_info": {
   "codemirror_mode": {
    "name": "ipython",
    "version": 3
   },
   "file_extension": ".py",
   "mimetype": "text/x-python",
   "name": "python",
   "nbconvert_exporter": "python",
   "pygments_lexer": "ipython3",
   "version": "3.12.3"
  }
 },
 "nbformat": 4,
 "nbformat_minor": 2
}
